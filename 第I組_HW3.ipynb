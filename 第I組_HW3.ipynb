{
  "nbformat": 4,
  "nbformat_minor": 0,
  "metadata": {
    "colab": {
      "provenance": [],
      "authorship_tag": "ABX9TyPOYtefo6t2i3gO+4hwoIN0",
      "include_colab_link": true
    },
    "kernelspec": {
      "name": "python3",
      "display_name": "Python 3"
    },
    "language_info": {
      "name": "python"
    }
  },
  "cells": [
    {
      "cell_type": "markdown",
      "metadata": {
        "id": "view-in-github",
        "colab_type": "text"
      },
      "source": [
        "<a href=\"https://colab.research.google.com/github/B1202090/HW3/blob/main/%E7%AC%ACI%E7%B5%84_HW3.ipynb\" target=\"_parent\"><img src=\"https://colab.research.google.com/assets/colab-badge.svg\" alt=\"Open In Colab\"/></a>"
      ]
    },
    {
      "cell_type": "code",
      "execution_count": null,
      "metadata": {
        "colab": {
          "base_uri": "https://localhost:8080/"
        },
        "id": "BrffZ3Zi1ylF",
        "outputId": "b82fc8b9-8f85-43ff-a5da-ab32c81d5707"
      },
      "outputs": [
        {
          "output_type": "stream",
          "name": "stdout",
          "text": [
            "I'm a student\n"
          ]
        }
      ],
      "source": [
        "print(\"I'm a student\")"
      ]
    },
    {
      "cell_type": "code",
      "source": [
        "a = int(input('請輸入x1='))\n",
        "b = int(input('請輸入y1='))\n",
        "c = int(input('請輸入x2='))\n",
        "\n",
        "d = int(input('請輸入y2='))\n",
        "\n",
        "a = c\n",
        "\n",
        "b = d\n",
        "\n",
        "print('AB距離=',((a**2+b**2)**(1/2)))"
      ],
      "metadata": {
        "colab": {
          "base_uri": "https://localhost:8080/"
        },
        "id": "fZD8CV5G2BME",
        "outputId": "79f086b7-9e8e-4a23-9bdd-bc9919179e77"
      },
      "execution_count": null,
      "outputs": [
        {
          "output_type": "stream",
          "name": "stdout",
          "text": [
            "請輸入x1=0\n",
            "請輸入y1=0\n",
            "請輸入x2=3\n",
            "請輸入y2=4\n",
            "AB距離= 5.0\n"
          ]
        }
      ]
    },
    {
      "cell_type": "code",
      "source": [
        "a = int(input('身高為(cm)'))\n",
        "b = int(input('體重為(kg)'))\n",
        "b = 0.01*a\n",
        "print(int(b<18.5))"
      ],
      "metadata": {
        "colab": {
          "base_uri": "https://localhost:8080/"
        },
        "id": "r-P2GanL2kMb",
        "outputId": "10061b5f-31a5-4c85-9968-c575505542ac"
      },
      "execution_count": null,
      "outputs": [
        {
          "output_type": "stream",
          "name": "stdout",
          "text": [
            "身高為(cm)147\n",
            "體重為(kg)39\n",
            "1\n"
          ]
        }
      ]
    }
  ]
}