{
  "nbformat": 4,
  "nbformat_minor": 0,
  "metadata": {
    "colab": {
      "provenance": []
    },
    "kernelspec": {
      "name": "python3",
      "display_name": "Python 3"
    },
    "language_info": {
      "name": "python"
    }
  },
  "cells": [
    {
      "cell_type": "code",
      "execution_count": null,
      "metadata": {
        "colab": {
          "base_uri": "https://localhost:8080/"
        },
        "id": "CKNAfyoofuDr",
        "outputId": "bdda990f-18af-4b77-e66c-9404c8adc06b"
      },
      "outputs": [
        {
          "output_type": "stream",
          "name": "stdout",
          "text": [
            "hello, world！\n"
          ]
        }
      ],
      "source": [
        "\n",
        "A='hello, world！'\n",
        "print(A)"
      ]
    },
    {
      "cell_type": "code",
      "source": [
        "a=10\n",
        "b=7\n",
        "y=7*a+b\n",
        "print(y)"
      ],
      "metadata": {
        "colab": {
          "base_uri": "https://localhost:8080/"
        },
        "id": "uBT0-eLVMgbS",
        "outputId": "7e6de92b-56a8-4736-95f8-ef5c7ec477c5"
      },
      "execution_count": null,
      "outputs": [
        {
          "output_type": "stream",
          "name": "stdout",
          "text": [
            "77\n"
          ]
        }
      ]
    }
  ]
}